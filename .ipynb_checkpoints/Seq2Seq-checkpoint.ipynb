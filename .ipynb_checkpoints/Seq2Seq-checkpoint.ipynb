{
 "cells": [
  {
   "cell_type": "markdown",
   "id": "6327f0de",
   "metadata": {},
   "source": [
    "### Seq2Seq Model for Neural Machine Translation"
   ]
  }
 ],
 "metadata": {
  "kernelspec": {
   "display_name": "Python 3",
   "language": "python",
   "name": "python3"
  },
  "language_info": {
   "codemirror_mode": {
    "name": "ipython",
    "version": 3
   },
   "file_extension": ".py",
   "mimetype": "text/x-python",
   "name": "python",
   "nbconvert_exporter": "python",
   "pygments_lexer": "ipython3",
   "version": "3.9.5"
  }
 },
 "nbformat": 4,
 "nbformat_minor": 5
}
